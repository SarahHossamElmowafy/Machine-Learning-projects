{
 "cells": [
  {
   "cell_type": "markdown",
   "metadata": {
    "id": "2adfc90e"
   },
   "source": [
    "## Import Libraries"
   ]
  },
  {
   "cell_type": "code",
   "execution_count": 1,
   "metadata": {
    "id": "7ecd1f7b"
   },
   "outputs": [],
   "source": [
    "import pandas as pd\n",
    "\n",
    "import numpy as np\n",
    "import matplotlib.pyplot as plt\n",
    "\n",
    "from sklearn.metrics import classification_report, confusion_matrix, accuracy_score, plot_confusion_matrix\n",
    "from sklearn.datasets import make_classification, make_circles\n",
    "from sklearn.calibration import CalibratedClassifierCV\n",
    "from sklearn.linear_model import Perceptron\n",
    "from sklearn import svm"
   ]
  },
  {
   "cell_type": "markdown",
   "metadata": {
    "id": "447366a3"
   },
   "source": [
    "## Import Datasets"
   ]
  },
  {
   "cell_type": "code",
   "execution_count": 2,
   "metadata": {
    "id": "15858565"
   },
   "outputs": [],
   "source": [
    "seeds_train = pd.read_csv(\"Dataset/seeds_train.csv\", header= None)\n",
    "seeds_test = pd.read_csv(\"Dataset/seeds_test.csv\", header= None)"
   ]
  },
  {
   "cell_type": "markdown",
   "metadata": {},
   "source": [
    "# Data Information"
   ]
  },
  {
   "cell_type": "code",
   "execution_count": 3,
   "metadata": {
    "colab": {
     "base_uri": "https://localhost:8080/",
     "height": 424
    },
    "id": "bac59339",
    "outputId": "bee2b2b2-8a86-43e9-f4ee-84d9e162cdf4"
   },
   "outputs": [
    {
     "data": {
      "text/html": [
       "<div>\n",
       "<style scoped>\n",
       "    .dataframe tbody tr th:only-of-type {\n",
       "        vertical-align: middle;\n",
       "    }\n",
       "\n",
       "    .dataframe tbody tr th {\n",
       "        vertical-align: top;\n",
       "    }\n",
       "\n",
       "    .dataframe thead th {\n",
       "        text-align: right;\n",
       "    }\n",
       "</style>\n",
       "<table border=\"1\" class=\"dataframe\">\n",
       "  <thead>\n",
       "    <tr style=\"text-align: right;\">\n",
       "      <th></th>\n",
       "      <th>0</th>\n",
       "      <th>1</th>\n",
       "      <th>2</th>\n",
       "    </tr>\n",
       "  </thead>\n",
       "  <tbody>\n",
       "    <tr>\n",
       "      <th>0</th>\n",
       "      <td>14.84</td>\n",
       "      <td>2.221</td>\n",
       "      <td>1</td>\n",
       "    </tr>\n",
       "    <tr>\n",
       "      <th>1</th>\n",
       "      <td>14.09</td>\n",
       "      <td>2.699</td>\n",
       "      <td>1</td>\n",
       "    </tr>\n",
       "    <tr>\n",
       "      <th>2</th>\n",
       "      <td>13.94</td>\n",
       "      <td>2.259</td>\n",
       "      <td>1</td>\n",
       "    </tr>\n",
       "    <tr>\n",
       "      <th>3</th>\n",
       "      <td>14.99</td>\n",
       "      <td>1.355</td>\n",
       "      <td>1</td>\n",
       "    </tr>\n",
       "    <tr>\n",
       "      <th>4</th>\n",
       "      <td>14.49</td>\n",
       "      <td>3.586</td>\n",
       "      <td>1</td>\n",
       "    </tr>\n",
       "  </tbody>\n",
       "</table>\n",
       "</div>"
      ],
      "text/plain": [
       "       0      1  2\n",
       "0  14.84  2.221  1\n",
       "1  14.09  2.699  1\n",
       "2  13.94  2.259  1\n",
       "3  14.99  1.355  1\n",
       "4  14.49  3.586  1"
      ]
     },
     "execution_count": 3,
     "metadata": {},
     "output_type": "execute_result"
    }
   ],
   "source": [
    "seeds_train.head()"
   ]
  },
  {
   "cell_type": "code",
   "execution_count": 4,
   "metadata": {
    "colab": {
     "base_uri": "https://localhost:8080/"
    },
    "id": "b2788952",
    "outputId": "ea1742f1-70fd-4f17-8e46-9d300ac7419a"
   },
   "outputs": [
    {
     "name": "stdout",
     "output_type": "stream",
     "text": [
      "<class 'pandas.core.frame.DataFrame'>\n",
      "RangeIndex: 169 entries, 0 to 168\n",
      "Data columns (total 3 columns):\n",
      " #   Column  Non-Null Count  Dtype  \n",
      "---  ------  --------------  -----  \n",
      " 0   0       169 non-null    float64\n",
      " 1   1       169 non-null    float64\n",
      " 2   2       169 non-null    int64  \n",
      "dtypes: float64(2), int64(1)\n",
      "memory usage: 4.1 KB\n"
     ]
    }
   ],
   "source": [
    "seeds_train.info()"
   ]
  },
  {
   "cell_type": "code",
   "execution_count": 21,
   "metadata": {
    "colab": {
     "base_uri": "https://localhost:8080/",
     "height": 300
    },
    "id": "7abc865b",
    "outputId": "2869d67c-fa90-4cd3-c24b-54d9e8c0aed3"
   },
   "outputs": [
    {
     "data": {
      "text/html": [
       "<div>\n",
       "<style scoped>\n",
       "    .dataframe tbody tr th:only-of-type {\n",
       "        vertical-align: middle;\n",
       "    }\n",
       "\n",
       "    .dataframe tbody tr th {\n",
       "        vertical-align: top;\n",
       "    }\n",
       "\n",
       "    .dataframe thead th {\n",
       "        text-align: right;\n",
       "    }\n",
       "</style>\n",
       "<table border=\"1\" class=\"dataframe\">\n",
       "  <thead>\n",
       "    <tr style=\"text-align: right;\">\n",
       "      <th></th>\n",
       "      <th>0</th>\n",
       "      <th>1</th>\n",
       "      <th>2</th>\n",
       "    </tr>\n",
       "  </thead>\n",
       "  <tbody>\n",
       "    <tr>\n",
       "      <th>count</th>\n",
       "      <td>169.000000</td>\n",
       "      <td>169.000000</td>\n",
       "      <td>169.000000</td>\n",
       "    </tr>\n",
       "    <tr>\n",
       "      <th>mean</th>\n",
       "      <td>14.500592</td>\n",
       "      <td>3.702427</td>\n",
       "      <td>2.000000</td>\n",
       "    </tr>\n",
       "    <tr>\n",
       "      <th>std</th>\n",
       "      <td>1.304375</td>\n",
       "      <td>1.520625</td>\n",
       "      <td>0.830949</td>\n",
       "    </tr>\n",
       "    <tr>\n",
       "      <th>min</th>\n",
       "      <td>12.570000</td>\n",
       "      <td>0.765100</td>\n",
       "      <td>1.000000</td>\n",
       "    </tr>\n",
       "    <tr>\n",
       "      <th>25%</th>\n",
       "      <td>13.410000</td>\n",
       "      <td>2.587000</td>\n",
       "      <td>1.000000</td>\n",
       "    </tr>\n",
       "    <tr>\n",
       "      <th>50%</th>\n",
       "      <td>14.180000</td>\n",
       "      <td>3.597000</td>\n",
       "      <td>2.000000</td>\n",
       "    </tr>\n",
       "    <tr>\n",
       "      <th>75%</th>\n",
       "      <td>15.380000</td>\n",
       "      <td>4.825000</td>\n",
       "      <td>3.000000</td>\n",
       "    </tr>\n",
       "    <tr>\n",
       "      <th>max</th>\n",
       "      <td>17.250000</td>\n",
       "      <td>8.456000</td>\n",
       "      <td>3.000000</td>\n",
       "    </tr>\n",
       "  </tbody>\n",
       "</table>\n",
       "</div>"
      ],
      "text/plain": [
       "                0           1           2\n",
       "count  169.000000  169.000000  169.000000\n",
       "mean    14.500592    3.702427    2.000000\n",
       "std      1.304375    1.520625    0.830949\n",
       "min     12.570000    0.765100    1.000000\n",
       "25%     13.410000    2.587000    1.000000\n",
       "50%     14.180000    3.597000    2.000000\n",
       "75%     15.380000    4.825000    3.000000\n",
       "max     17.250000    8.456000    3.000000"
      ]
     },
     "execution_count": 21,
     "metadata": {},
     "output_type": "execute_result"
    }
   ],
   "source": [
    "seeds_train.describe()"
   ]
  },
  {
   "cell_type": "code",
   "execution_count": 22,
   "metadata": {
    "colab": {
     "base_uri": "https://localhost:8080/"
    },
    "id": "8355dea2",
    "outputId": "4c07702c-dd68-4e9b-f891-6b767242739e"
   },
   "outputs": [
    {
     "data": {
      "text/plain": [
       "0    169\n",
       "1    169\n",
       "2    169\n",
       "dtype: int64"
      ]
     },
     "execution_count": 22,
     "metadata": {},
     "output_type": "execute_result"
    }
   ],
   "source": [
    "seeds_train.count()"
   ]
  },
  {
   "cell_type": "code",
   "execution_count": 23,
   "metadata": {
    "colab": {
     "base_uri": "https://localhost:8080/"
    },
    "id": "fd7a6fb0",
    "outputId": "d052cd4b-d94e-4dda-c446-0fcee65e16c9"
   },
   "outputs": [
    {
     "data": {
      "text/plain": [
       "3    58\n",
       "1    58\n",
       "2    53\n",
       "Name: 2, dtype: int64"
      ]
     },
     "execution_count": 23,
     "metadata": {},
     "output_type": "execute_result"
    }
   ],
   "source": [
    "seeds_train[2].value_counts()"
   ]
  },
  {
   "cell_type": "markdown",
   "metadata": {},
   "source": [
    "### Method to get model accuracy"
   ]
  },
  {
   "cell_type": "code",
   "execution_count": 24,
   "metadata": {
    "id": "182d0d72"
   },
   "outputs": [],
   "source": [
    "# method to get accuracy of the model\n",
    "def getAccuracy(model, x, y):\n",
    "    return model.score(x,y)*100"
   ]
  },
  {
   "cell_type": "markdown",
   "metadata": {},
   "source": [
    "# Plot Data"
   ]
  },
  {
   "cell_type": "code",
   "execution_count": 25,
   "metadata": {},
   "outputs": [],
   "source": [
    "def prepareDataset(X_train, y_train, cls_remove=None):\n",
    "   cls = [1, 2, 3]\n",
    "   if cls_remove is not None:\n",
    "     features = []\n",
    "     labels = []\n",
    "     for index, (feat, label) in enumerate(zip(X_train, y_train)):\n",
    "       if y[index] != cls_remove:\n",
    "         features.append(feat)\n",
    "         labels.append(label)\n",
    "     cls.pop(cls_remove)\n",
    "   else:\n",
    "     features = X_train\n",
    "     labels = y_train\n",
    "   return np.array(features)[:, 0:2], np.array(labels), cls\n",
    "\n",
    "#feat, lbl, cls = prepareDataset(features, labels, cls_remove=None)"
   ]
  },
  {
   "cell_type": "code",
   "execution_count": 26,
   "metadata": {},
   "outputs": [],
   "source": [
    "def getClassNames(target_names):\n",
    "    cls_all = {}\n",
    "    for i, label in enumerate(target_names):\n",
    "        cls_all[i+1] = label\n",
    "    return cls_all"
   ]
  },
  {
   "cell_type": "code",
   "execution_count": 27,
   "metadata": {},
   "outputs": [],
   "source": [
    "def plotData(features, labels, cls, class_names):\n",
    "  colors = ['r', 'b', 'g']\n",
    "  markers = ['o', '*', '+']\n",
    "  for class_index in range(len(cls)):\n",
    "    plt.scatter(features[labels == cls[class_index],0], features[labels == cls[class_index],1], c=colors[class_index], marker=markers[class_index], label=class_names[cls[class_index]])\n",
    "  Title = \"Dataset with {n} classes\".format(n= int(len(cls)))\n",
    "  plt.title(Title)\n",
    "  plt.xlabel('Feature 1')\n",
    "  plt.ylabel('Feature 2')\n",
    "  plt.legend()"
   ]
  },
  {
   "cell_type": "code",
   "execution_count": 28,
   "metadata": {},
   "outputs": [],
   "source": [
    "def plotRegions(model,X):\n",
    "  x_min, x_max = X[:, 0].min() - 1, X[:, 0].max() + 1\n",
    "  y_min, y_max = X[:, 1].min() - 1, X[:, 1].max() + 1\n",
    "  XX, YY = np.meshgrid(np.arange(x_min, x_max, 0.01), np.arange(y_min, y_max, 0.01))\n",
    "\n",
    "  z = model.predict(np.c_[XX.ravel(), YY.ravel()])\n",
    "  ZZ = z.reshape(XX.shape)\n",
    "  plt.contourf(XX, YY, ZZ, alpha=0.2)"
   ]
  },
  {
   "cell_type": "markdown",
   "metadata": {},
   "source": [
    "### Plot Original Data"
   ]
  },
  {
   "cell_type": "code",
   "execution_count": 29,
   "metadata": {},
   "outputs": [],
   "source": [
    "# train data\n",
    "features_train = seeds_train.iloc[:, 0:2].to_numpy()\n",
    "labels_train = seeds_train.iloc[:, 2].to_numpy()\n",
    "\n",
    "#test data\n",
    "features_test = seeds_test.iloc[:, 0:2].to_numpy()\n",
    "labels_test = seeds_test.iloc[:, 2].to_numpy()\n",
    "\n",
    "cls = [1, 2, 3]\n",
    "c_names = ['Kama','Rosa','Canadian']"
   ]
  },
  {
   "cell_type": "code",
   "execution_count": 30,
   "metadata": {},
   "outputs": [],
   "source": [
    "X_train, y_train, cls_new = prepareDataset(features_train, labels_train, cls_remove=None)\n",
    "X_test_all, y_test_all, cls_new = prepareDataset(features_test, labels_test, cls_remove=None)\n",
    "class_names = getClassNames(c_names)"
   ]
  },
  {
   "cell_type": "code",
   "execution_count": 31,
   "metadata": {},
   "outputs": [
    {
     "data": {
      "image/png": "[encoded data removed]",
      "text/plain": [
       "<Figure size 432x288 with 1 Axes>"
      ]
     },
     "metadata": {
      "needs_background": "light"
     },
     "output_type": "display_data"
    }
   ],
   "source": [
    "# Train Data\n",
    "plotData(X_train, y_train, cls, class_names)"
   ]
  },
  {
   "cell_type": "code",
   "execution_count": 32,
   "metadata": {},
   "outputs": [
    {
     "data": {
      "image/png": "[encoded data removed]",
      "text/plain": [
       "<Figure size 432x288 with 1 Axes>"
      ]
     },
     "metadata": {
      "needs_background": "light"
     },
     "output_type": "display_data"
    }
   ],
   "source": [
    "# Test Data\n",
    "plotData(X_test_all, y_test_all, cls, class_names)"
   ]
  },
  {
   "cell_type": "markdown",
   "metadata": {
    "id": "24967250"
   },
   "source": [
    "## Binary Classification\n",
    "\n",
    "  - drop class 1 to work with 2 classes only"
   ]
  },
  {
   "cell_type": "code",
   "execution_count": 33,
   "metadata": {
    "id": "e2578b0d"
   },
   "outputs": [],
   "source": [
    "# Make copy from our main datasets\n",
    "seeds_train_binary = seeds_train.copy()\n",
    "seeds_test_binary = seeds_test.copy()\n",
    "\n",
    "# Drop class = 1 from datasets to make it binary classification\n",
    "df_train_filtered = seeds_train_binary[seeds_train_binary[2] > 1]\n",
    "df_test_filtered = seeds_test_binary[seeds_test_binary[2] > 1]\n",
    "\n",
    "# Split the train dataset to train and test\n",
    "X_train = df_train_filtered.iloc[:, :2]\n",
    "y_train = df_train_filtered.iloc[:, 2]\n",
    "\n",
    "# Split the test dataset to train and test\n",
    "X_test = df_test_filtered.iloc[:, :2]\n",
    "y_test = df_test_filtered.iloc[:, 2]"
   ]
  },
  {
   "cell_type": "code",
   "execution_count": 34,
   "metadata": {},
   "outputs": [
    {
     "data": {
      "image/png": "[encoded data removed]",
      "text/plain": [
       "<Figure size 432x288 with 1 Axes>"
      ]
     },
     "metadata": {
      "needs_background": "light"
     },
     "output_type": "display_data"
    }
   ],
   "source": [
    "features, labels, cls= X_train.to_numpy(), y_train.to_numpy(), [2, 3]\n",
    "X, y, cls_new = prepareDataset(features, labels, cls_remove=None)\n",
    "class_names = getClassNames(c_names)\n",
    "\n",
    "plotData(X, y, cls, class_names)"
   ]
  },
  {
   "cell_type": "markdown",
   "metadata": {
    "id": "ca891492"
   },
   "source": [
    "## SVM Model OVO"
   ]
  },
  {
   "cell_type": "code",
   "execution_count": 35,
   "metadata": {
    "colab": {
     "base_uri": "https://localhost:8080/",
     "height": 590
    },
    "id": "c23b7a99",
    "outputId": "e42dda15-2947-48c7-ed73-cd4dbda47491"
   },
   "outputs": [
    {
     "name": "stdout",
     "output_type": "stream",
     "text": [
      "Accuracy of SVM model: 100.00%\n",
      " \n",
      "\n",
      "Confusion Matrix:\n",
      "\n",
      "[[17  0]\n",
      " [ 0 12]]\n"
     ]
    },
    {
     "data": {
      "text/html": [
       "<div>\n",
       "<style scoped>\n",
       "    .dataframe tbody tr th:only-of-type {\n",
       "        vertical-align: middle;\n",
       "    }\n",
       "\n",
       "    .dataframe tbody tr th {\n",
       "        vertical-align: top;\n",
       "    }\n",
       "\n",
       "    .dataframe thead th {\n",
       "        text-align: right;\n",
       "    }\n",
       "</style>\n",
       "<table border=\"1\" class=\"dataframe\">\n",
       "  <thead>\n",
       "    <tr style=\"text-align: right;\">\n",
       "      <th></th>\n",
       "      <th>y_test</th>\n",
       "      <th>y_pred</th>\n",
       "    </tr>\n",
       "  </thead>\n",
       "  <tbody>\n",
       "    <tr>\n",
       "      <th>1</th>\n",
       "      <td>2</td>\n",
       "      <td>2</td>\n",
       "    </tr>\n",
       "    <tr>\n",
       "      <th>2</th>\n",
       "      <td>2</td>\n",
       "      <td>2</td>\n",
       "    </tr>\n",
       "    <tr>\n",
       "      <th>5</th>\n",
       "      <td>2</td>\n",
       "      <td>2</td>\n",
       "    </tr>\n",
       "    <tr>\n",
       "      <th>6</th>\n",
       "      <td>3</td>\n",
       "      <td>3</td>\n",
       "    </tr>\n",
       "    <tr>\n",
       "      <th>7</th>\n",
       "      <td>2</td>\n",
       "      <td>2</td>\n",
       "    </tr>\n",
       "  </tbody>\n",
       "</table>\n",
       "</div>"
      ],
      "text/plain": [
       "   y_test  y_pred\n",
       "1       2       2\n",
       "2       2       2\n",
       "5       2       2\n",
       "6       3       3\n",
       "7       2       2"
      ]
     },
     "execution_count": 35,
     "metadata": {},
     "output_type": "execute_result"
    },
    {
     "data": {
      "image/png": "[encoded data removed]",
      "text/plain": [
       "<Figure size 432x288 with 2 Axes>"
      ]
     },
     "metadata": {
      "needs_background": "light"
     },
     "output_type": "display_data"
    }
   ],
   "source": [
    "from sklearn import svm\n",
    "\n",
    "svm_model = svm.SVC(kernel='linear', decision_function_shape='ovo')\n",
    "svm_model.fit(X_train, y_train)\n",
    "\n",
    "y_pred_svm_ovo = svm_model.predict(X_test)\n",
    "\n",
    "print('Accuracy of SVM model: {:.2f}%'.format(getAccuracy(svm_model, X_test, y_test)))\n",
    "print(\" \")\n",
    "print('\\nConfusion Matrix:\\n')\n",
    "print(confusion_matrix(y_test, y_pred_svm_ovo))\n",
    "plot_confusion_matrix(svm_model, X_test, y_test, xticks_rotation='horizontal')\n",
    "\n",
    "df_pred_SVM_OVO = pd.DataFrame()\n",
    "df_pred_SVM_OVO['y_test'], df_pred_SVM_OVO['y_pred'] = y_test, y_pred_svm_ovo\n",
    "# Split the train dataset to train and test\n",
    "X_train = df_train_filtered.iloc[:, :2]\n",
    "y_train = df_train_filtered.iloc[:, 2]\n",
    "\n",
    "# Split the test dataset to train and test\n",
    "X_test = df_test_filtered.iloc[:, :2]\n",
    "y_test = df_test_filtered.iloc[:, 2]\n",
    "df_pred_SVM_OVO.head()"
   ]
  },
  {
   "cell_type": "code",
   "execution_count": 36,
   "metadata": {},
   "outputs": [],
   "source": [
    "X_test_ovo = X_test.to_numpy()\n",
    "y_test_ovo = y_test.to_numpy()"
   ]
  },
  {
   "cell_type": "code",
   "execution_count": 37,
   "metadata": {},
   "outputs": [
    {
     "data": {
      "image/png": "[encoded data removed]",
      "text/plain": [
       "<Figure size 432x288 with 1 Axes>"
      ]
     },
     "metadata": {
      "needs_background": "light"
     },
     "output_type": "display_data"
    }
   ],
   "source": [
    "features, labels, cls= X_train.to_numpy(), y_train.to_numpy(), [2, 3]\n",
    "X, y, cls_new = prepareDataset(features, labels, cls_remove=None)\n",
    "class_names = getClassNames(c_names)\n",
    "\n",
    "plotData(X_test_ovo, y_test_ovo, cls, class_names)\n",
    "plotRegions(svm_model, X)\n",
    "plt.legend(loc=\"upper left\")\n",
    "plt.show()"
   ]
  },
  {
   "cell_type": "markdown",
   "metadata": {
    "id": "VoNyZWJ2EwYz"
   },
   "source": [
    "## Preceptron Model OVO"
   ]
  },
  {
   "cell_type": "code",
   "execution_count": 38,
   "metadata": {
    "colab": {
     "base_uri": "https://localhost:8080/",
     "height": 572
    },
    "id": "99902146",
    "outputId": "fa13dbfa-bd05-4760-a458-5cc04a786eef"
   },
   "outputs": [
    {
     "name": "stdout",
     "output_type": "stream",
     "text": [
      "Accuracy of Preceptron model: 82.76%\n",
      "\n",
      "Confusion Matrix:\n",
      "\n",
      "[[17  0]\n",
      " [ 5  7]]\n"
     ]
    },
    {
     "data": {
      "text/html": [
       "<div>\n",
       "<style scoped>\n",
       "    .dataframe tbody tr th:only-of-type {\n",
       "        vertical-align: middle;\n",
       "    }\n",
       "\n",
       "    .dataframe tbody tr th {\n",
       "        vertical-align: top;\n",
       "    }\n",
       "\n",
       "    .dataframe thead th {\n",
       "        text-align: right;\n",
       "    }\n",
       "</style>\n",
       "<table border=\"1\" class=\"dataframe\">\n",
       "  <thead>\n",
       "    <tr style=\"text-align: right;\">\n",
       "      <th></th>\n",
       "      <th>y_test</th>\n",
       "      <th>y_red</th>\n",
       "    </tr>\n",
       "  </thead>\n",
       "  <tbody>\n",
       "    <tr>\n",
       "      <th>1</th>\n",
       "      <td>2</td>\n",
       "      <td>2</td>\n",
       "    </tr>\n",
       "    <tr>\n",
       "      <th>2</th>\n",
       "      <td>2</td>\n",
       "      <td>2</td>\n",
       "    </tr>\n",
       "    <tr>\n",
       "      <th>5</th>\n",
       "      <td>2</td>\n",
       "      <td>2</td>\n",
       "    </tr>\n",
       "    <tr>\n",
       "      <th>6</th>\n",
       "      <td>3</td>\n",
       "      <td>2</td>\n",
       "    </tr>\n",
       "    <tr>\n",
       "      <th>7</th>\n",
       "      <td>2</td>\n",
       "      <td>2</td>\n",
       "    </tr>\n",
       "  </tbody>\n",
       "</table>\n",
       "</div>"
      ],
      "text/plain": [
       "   y_test  y_red\n",
       "1       2      2\n",
       "2       2      2\n",
       "5       2      2\n",
       "6       3      2\n",
       "7       2      2"
      ]
     },
     "execution_count": 38,
     "metadata": {},
     "output_type": "execute_result"
    },
    {
     "data": {
      "image/png": "[encoded data removed]",
      "text/plain": [
       "<Figure size 432x288 with 2 Axes>"
      ]
     },
     "metadata": {
      "needs_background": "light"
     },
     "output_type": "display_data"
    }
   ],
   "source": [
    "from sklearn.linear_model import Perceptron\n",
    "\n",
    "preceptron_model = Perceptron(alpha = 0.01, tol=1e-2, random_state=0)\n",
    "preceptron_model.fit(X_train, y_train)\n",
    "\n",
    "y_pred_preceptron_ovo = preceptron_model.predict(X_test)\n",
    "\n",
    "print('Accuracy of Preceptron model: {:.2f}%'.format(getAccuracy(preceptron_model, X_test, y_test)))\n",
    "\n",
    "print('\\nConfusion Matrix:\\n')\n",
    "print(confusion_matrix(y_test, y_pred_preceptron_ovo))\n",
    "plot_confusion_matrix(preceptron_model, X_test, y_test, xticks_rotation='horizontal')\n",
    "\n",
    "df_pred_Preceptron_OVO = pd.DataFrame()\n",
    "df_pred_Preceptron_OVO['y_test'], df_pred_Preceptron_OVO['y_red'] = y_test, y_pred_preceptron_ovo\n",
    "df_pred_Preceptron_OVO.head()"
   ]
  },
  {
   "cell_type": "code",
   "execution_count": 39,
   "metadata": {},
   "outputs": [
    {
     "data": {
      "image/png": "[encoded data removed]",
      "text/plain": [
       "<Figure size 432x288 with 1 Axes>"
      ]
     },
     "metadata": {
      "needs_background": "light"
     },
     "output_type": "display_data"
    }
   ],
   "source": [
    "plotData(X_test_ovo, y_test_ovo, cls, class_names)\n",
    "plotRegions(preceptron_model, X)\n",
    "plt.legend(loc=\"upper left\")\n",
    "plt.show()"
   ]
  },
  {
   "cell_type": "markdown",
   "metadata": {},
   "source": [
    "# Make Data Binary"
   ]
  },
  {
   "cell_type": "code",
   "execution_count": 40,
   "metadata": {
    "id": "bsxzmqKfgN_b"
   },
   "outputs": [],
   "source": [
    "# Make copy from our main datasets\n",
    "seeds_train_ovr = seeds_train.copy()\n",
    "seeds_test_ovr = seeds_test.copy()"
   ]
  },
  {
   "cell_type": "code",
   "execution_count": 42,
   "metadata": {
    "id": "8EB5WiAMgOCP"
   },
   "outputs": [
    {
     "data": {
      "text/html": [
       "<div>\n",
       "<style scoped>\n",
       "    .dataframe tbody tr th:only-of-type {\n",
       "        vertical-align: middle;\n",
       "    }\n",
       "\n",
       "    .dataframe tbody tr th {\n",
       "        vertical-align: top;\n",
       "    }\n",
       "\n",
       "    .dataframe thead th {\n",
       "        text-align: right;\n",
       "    }\n",
       "</style>\n",
       "<table border=\"1\" class=\"dataframe\">\n",
       "  <thead>\n",
       "    <tr style=\"text-align: right;\">\n",
       "      <th></th>\n",
       "      <th>0</th>\n",
       "      <th>1</th>\n",
       "      <th>2</th>\n",
       "      <th>y1</th>\n",
       "      <th>y2</th>\n",
       "      <th>y3</th>\n",
       "    </tr>\n",
       "  </thead>\n",
       "  <tbody>\n",
       "    <tr>\n",
       "      <th>0</th>\n",
       "      <td>14.84</td>\n",
       "      <td>2.221</td>\n",
       "      <td>1</td>\n",
       "      <td>1</td>\n",
       "      <td>0</td>\n",
       "      <td>0</td>\n",
       "    </tr>\n",
       "    <tr>\n",
       "      <th>1</th>\n",
       "      <td>14.09</td>\n",
       "      <td>2.699</td>\n",
       "      <td>1</td>\n",
       "      <td>1</td>\n",
       "      <td>0</td>\n",
       "      <td>0</td>\n",
       "    </tr>\n",
       "    <tr>\n",
       "      <th>2</th>\n",
       "      <td>13.94</td>\n",
       "      <td>2.259</td>\n",
       "      <td>1</td>\n",
       "      <td>1</td>\n",
       "      <td>0</td>\n",
       "      <td>0</td>\n",
       "    </tr>\n",
       "    <tr>\n",
       "      <th>3</th>\n",
       "      <td>14.99</td>\n",
       "      <td>1.355</td>\n",
       "      <td>1</td>\n",
       "      <td>1</td>\n",
       "      <td>0</td>\n",
       "      <td>0</td>\n",
       "    </tr>\n",
       "    <tr>\n",
       "      <th>4</th>\n",
       "      <td>14.49</td>\n",
       "      <td>3.586</td>\n",
       "      <td>1</td>\n",
       "      <td>1</td>\n",
       "      <td>0</td>\n",
       "      <td>0</td>\n",
       "    </tr>\n",
       "    <tr>\n",
       "      <th>...</th>\n",
       "      <td>...</td>\n",
       "      <td>...</td>\n",
       "      <td>...</td>\n",
       "      <td>...</td>\n",
       "      <td>...</td>\n",
       "      <td>...</td>\n",
       "    </tr>\n",
       "    <tr>\n",
       "      <th>164</th>\n",
       "      <td>13.41</td>\n",
       "      <td>8.456</td>\n",
       "      <td>3</td>\n",
       "      <td>0</td>\n",
       "      <td>0</td>\n",
       "      <td>1</td>\n",
       "    </tr>\n",
       "    <tr>\n",
       "      <th>165</th>\n",
       "      <td>13.47</td>\n",
       "      <td>3.919</td>\n",
       "      <td>3</td>\n",
       "      <td>0</td>\n",
       "      <td>0</td>\n",
       "      <td>1</td>\n",
       "    </tr>\n",
       "    <tr>\n",
       "      <th>166</th>\n",
       "      <td>13.20</td>\n",
       "      <td>3.631</td>\n",
       "      <td>3</td>\n",
       "      <td>0</td>\n",
       "      <td>0</td>\n",
       "      <td>1</td>\n",
       "    </tr>\n",
       "    <tr>\n",
       "      <th>167</th>\n",
       "      <td>12.88</td>\n",
       "      <td>4.325</td>\n",
       "      <td>3</td>\n",
       "      <td>0</td>\n",
       "      <td>0</td>\n",
       "      <td>1</td>\n",
       "    </tr>\n",
       "    <tr>\n",
       "      <th>168</th>\n",
       "      <td>13.34</td>\n",
       "      <td>5.637</td>\n",
       "      <td>3</td>\n",
       "      <td>0</td>\n",
       "      <td>0</td>\n",
       "      <td>1</td>\n",
       "    </tr>\n",
       "  </tbody>\n",
       "</table>\n",
       "<p>169 rows × 6 columns</p>\n",
       "</div>"
      ],
      "text/plain": [
       "         0      1  2  y1  y2  y3\n",
       "0    14.84  2.221  1   1   0   0\n",
       "1    14.09  2.699  1   1   0   0\n",
       "2    13.94  2.259  1   1   0   0\n",
       "3    14.99  1.355  1   1   0   0\n",
       "4    14.49  3.586  1   1   0   0\n",
       "..     ...    ... ..  ..  ..  ..\n",
       "164  13.41  8.456  3   0   0   1\n",
       "165  13.47  3.919  3   0   0   1\n",
       "166  13.20  3.631  3   0   0   1\n",
       "167  12.88  4.325  3   0   0   1\n",
       "168  13.34  5.637  3   0   0   1\n",
       "\n",
       "[169 rows x 6 columns]"
      ]
     },
     "execution_count": 42,
     "metadata": {},
     "output_type": "execute_result"
    }
   ],
   "source": [
    "# method to make data binary\n",
    "def binary_y(df_train, df_test):\n",
    "  for i in df_train[2].unique():\n",
    "    df_train['y{}'.format(i)] = df_train[2].apply(lambda x: 1 if x == i else 0)\n",
    "    df_test['y{}'.format(i)] = df_test[2].apply(lambda x: 1 if x == i else 0)\n",
    "\n",
    "  return df_train, df_test\n",
    "\n",
    "df_train_ovr, df_test_ovr = binary_y(seeds_train_ovr, seeds_test_ovr)\n",
    "df_train_ovr"
   ]
  },
  {
   "cell_type": "markdown",
   "metadata": {},
   "source": [
    "# SVM One V Rest"
   ]
  },
  {
   "cell_type": "code",
   "execution_count": 47,
   "metadata": {},
   "outputs": [],
   "source": [
    "def Model_SVM(df_train_ovr, df_test_ovr):\n",
    "    tmp = []\n",
    "    svm_models = []\n",
    "    for i in range(3):\n",
    "        x_train = df_train_ovr.iloc[:, 0:2].to_numpy()\n",
    "        y_train = df_train_ovr.iloc[:, (i+3)].to_numpy()\n",
    "\n",
    "        x_test = df_test_ovr.iloc[:, 0:2].to_numpy()\n",
    "        y_test = df_test_ovr.iloc[:, (i+3)].to_numpy()\n",
    "        \n",
    "        svm_model = svm.SVC(kernel='linear', decision_function_shape='ovo', probability=True)\n",
    "        svm_model = svm_model.fit(x_train, y_train)\n",
    "        \n",
    "        svm_models.append(svm_model)\n",
    "        \n",
    "        svm_pred = svm_model.predict(x_test)\n",
    "\n",
    "        print('Accuracy of SVM model: {:.2f}'.format(getAccuracy(svm_model, x_test, y_test)))\n",
    "        print(\" \")\n",
    "        print('\\nConfusion Matrix:\\n')\n",
    "        print(confusion_matrix(y_test, svm_pred))\n",
    "        \n",
    "        print('\\nClassification Report:\\n')\n",
    "        print(classification_report(y_test, svm_pred))\n",
    "        \n",
    "        plot_confusion_matrix(svm_model, x_test, y_test, xticks_rotation='horizontal')\n",
    "    \n",
    "        tmp.append(svm_model.predict_proba(x_test))\n",
    "        t = svm_model.predict_proba(x_test)\n",
    "    return tmp, svm_models    "
   ]
  },
  {
   "cell_type": "code",
   "execution_count": 48,
   "metadata": {},
   "outputs": [
    {
     "name": "stdout",
     "output_type": "stream",
     "text": [
      "Accuracy of SVM model: 88.10\n",
      " \n",
      "\n",
      "Confusion Matrix:\n",
      "\n",
      "[[27  2]\n",
      " [ 3 10]]\n",
      "\n",
      "Classification Report:\n",
      "\n",
      "              precision    recall  f1-score   support\n",
      "\n",
      "           0       0.90      0.93      0.92        29\n",
      "           1       0.83      0.77      0.80        13\n",
      "\n",
      "    accuracy                           0.88        42\n",
      "   macro avg       0.87      0.85      0.86        42\n",
      "weighted avg       0.88      0.88      0.88        42\n",
      "\n",
      "Accuracy of SVM model: 97.62\n",
      " \n",
      "\n",
      "Confusion Matrix:\n",
      "\n",
      "[[24  1]\n",
      " [ 0 17]]\n",
      "\n",
      "Classification Report:\n",
      "\n",
      "              precision    recall  f1-score   support\n",
      "\n",
      "           0       1.00      0.96      0.98        25\n",
      "           1       0.94      1.00      0.97        17\n",
      "\n",
      "    accuracy                           0.98        42\n",
      "   macro avg       0.97      0.98      0.98        42\n",
      "weighted avg       0.98      0.98      0.98        42\n",
      "\n",
      "Accuracy of SVM model: 100.00\n",
      " \n",
      "\n",
      "Confusion Matrix:\n",
      "\n",
      "[[30  0]\n",
      " [ 0 12]]\n",
      "\n",
      "Classification Report:\n",
      "\n",
      "              precision    recall  f1-score   support\n",
      "\n",
      "           0       1.00      1.00      1.00        30\n",
      "           1       1.00      1.00      1.00        12\n",
      "\n",
      "    accuracy                           1.00        42\n",
      "   macro avg       1.00      1.00      1.00        42\n",
      "weighted avg       1.00      1.00      1.00        42\n",
      "\n"
     ]
    },
    {
     "data": {
      "image/png": "[encoded data removed]",
      "text/plain": [
       "<Figure size 432x288 with 2 Axes>"
      ]
     },
     "metadata": {
      "needs_background": "light"
     },
     "output_type": "display_data"
    },
    {
     "data": {
      "image/png": "[encoded data removed]",
      "text/plain": [
       "<Figure size 432x288 with 2 Axes>"
      ]
     },
     "metadata": {
      "needs_background": "light"
     },
     "output_type": "display_data"
    },
    {
     "data": {
      "image/png": "[encoded data removed]",
      "text/plain": [
       "<Figure size 432x288 with 2 Axes>"
      ]
     },
     "metadata": {
      "needs_background": "light"
     },
     "output_type": "display_data"
    }
   ],
   "source": [
    "fl, svm_models = Model_SVM(df_train_ovr, df_test_ovr)\n",
    "ls_svm_1 = fl[0][:,1]\n",
    "ls_svm_2 = fl[1][:,1]\n",
    "ls_svm_3 = fl[2][:,1]"
   ]
  },
  {
   "cell_type": "code",
   "execution_count": 50,
   "metadata": {},
   "outputs": [],
   "source": [
    "# method to calculate final accuarcy\n",
    "def get_final_acc(act, pred):\n",
    "    correct = []\n",
    "    errors = []\n",
    "    for i in zip(act, pred):\n",
    "        if(i[1] == i[0]):\n",
    "            correct.append(i)\n",
    "        else:\n",
    "            errors.append(i)\n",
    "    acc = len(correct)/len(act)        \n",
    "    return correct, errors, acc "
   ]
  },
  {
   "cell_type": "code",
   "execution_count": 51,
   "metadata": {},
   "outputs": [
    {
     "name": "stdout",
     "output_type": "stream",
     "text": [
      "[1, 2, 2, 1, 1, 2, 1, 2, 3, 3, 2, 3, 1, 3, 2, 2, 2, 1, 3, 1, 3, 1, 2, 3, 2, 1, 1, 3, 2, 2, 2, 3, 3, 1, 2, 2, 2, 3, 2, 1, 2, 2]\n",
      "\n",
      "Confusion Matrix:\n",
      "\n",
      "[[11  2  0]\n",
      " [ 0 17  0]\n",
      " [ 1  0 11]]\n",
      " \n",
      "Final Accuracy:  0.9285714285714286\n"
     ]
    }
   ],
   "source": [
    "predictions_svm =[]\n",
    "for i in zip(ls_svm_1, ls_svm_2, ls_svm_3):\n",
    "    x = np.argmax((i))\n",
    "    predictions_svm.append(x+1)\n",
    "print(predictions_svm) \n",
    "\n",
    "actuals = seeds_test.iloc[: , 2]\n",
    "\n",
    "print('\\nConfusion Matrix:\\n')\n",
    "print(confusion_matrix(actuals, predictions_svm))\n",
    "\n",
    "correct, errors, accuracy = get_final_acc(actuals, predictions_svm)\n",
    "print(\" \")\n",
    "print(\"Final Accuracy: \", accuracy)"
   ]
  },
  {
   "cell_type": "markdown",
   "metadata": {},
   "source": [
    "#### Method to plot 3 models on test data "
   ]
  },
  {
   "cell_type": "code",
   "execution_count": 30,
   "metadata": {},
   "outputs": [],
   "source": [
    "def plot_regions_ovr(df_train_ovr, df_test_ovr, svm_models):\n",
    "    \n",
    "    for i in range(3):\n",
    "        x_train = df_train_ovr.iloc[:, 0:2].to_numpy()\n",
    "        y_train = df_train_ovr.iloc[:, (i+3)].to_numpy()\n",
    "\n",
    "        x_test = df_test_ovr.iloc[:, 0:2].to_numpy()\n",
    "        y_test = df_test_ovr.iloc[:, (i+3)].to_numpy()\n",
    "        \n",
    "        p_names = ['1','0']\n",
    "        features, labels, cls_p = x_train, y_train, [1, 0]\n",
    "        X, y, cls_new = prepareDataset(features, labels, cls_remove=None)\n",
    "\n",
    "        plotData(x_test, y_test, cls_p, p_names)\n",
    "        plotRegions(svm_models[i], X)\n",
    "        plt.legend(loc= \"upper left\")\n",
    "        plt.show()"
   ]
  },
  {
   "cell_type": "code",
   "execution_count": 31,
   "metadata": {},
   "outputs": [
    {
     "data": {
      "image/png": "[encoded data removed]",
      "text/plain": [
       "<Figure size 432x288 with 1 Axes>"
      ]
     },
     "metadata": {
      "needs_background": "light"
     },
     "output_type": "display_data"
    },
    {
     "data": {
      "image/png": "[encoded data removed]",
      "text/plain": [
       "<Figure size 432x288 with 1 Axes>"
      ]
     },
     "metadata": {
      "needs_background": "light"
     },
     "output_type": "display_data"
    },
    {
     "data": {
      "image/png": "[encoded data removed]",
      "text/plain": [
       "<Figure size 432x288 with 1 Axes>"
      ]
     },
     "metadata": {
      "needs_background": "light"
     },
     "output_type": "display_data"
    }
   ],
   "source": [
    "plot_regions_ovr(df_train_ovr, df_test_ovr, svm_models)"
   ]
  },
  {
   "cell_type": "markdown",
   "metadata": {},
   "source": [
    "### Plot SVM models on test data "
   ]
  },
  {
   "cell_type": "code",
   "execution_count": 32,
   "metadata": {},
   "outputs": [
    {
     "data": {
      "image/png": "[encoded data removed]",
      "text/plain": [
       "<Figure size 432x288 with 1 Axes>"
      ]
     },
     "metadata": {
      "needs_background": "light"
     },
     "output_type": "display_data"
    }
   ],
   "source": [
    "cls_final = [1, 2, 3]\n",
    "class_names_final = getClassNames(c_names)\n",
    "\n",
    "plotData(X_test_all, y_test_all, cls_final, class_names_final)\n",
    "plotRegions(svm_models[0], X_test_all)\n",
    "plotRegions(svm_models[1], X_test_all)\n",
    "plotRegions(svm_models[2], X_test_all)\n",
    "plt.legend(loc= \"upper left\")\n",
    "plt.show()"
   ]
  },
  {
   "cell_type": "markdown",
   "metadata": {},
   "source": [
    "# Preceptron One V Rest"
   ]
  },
  {
   "cell_type": "code",
   "execution_count": 33,
   "metadata": {},
   "outputs": [],
   "source": [
    "def Model_Perceptron(df_train_ovr, df_test_ovr):\n",
    "    tmp = []\n",
    "    prec_models = []\n",
    "    \n",
    "    for i in range(3):\n",
    "        x_train = df_train_ovr.iloc[:, 0:2].to_numpy()\n",
    "        y_train = df_train_ovr.iloc[:, (i+3)].to_numpy()\n",
    "\n",
    "        x_test = df_test_ovr.iloc[:, 0:2].to_numpy()\n",
    "        y_test = df_test_ovr.iloc[:, (i+3)].to_numpy()\n",
    "        \n",
    "        preceptron_model = Perceptron(alpha = 0.01, tol=1e-2, penalty= 'l2', max_iter = 4000, n_iter_no_change = 8, validation_fraction = 0.3, random_state=0)\n",
    "        prec_model = CalibratedClassifierCV(preceptron_model, method='sigmoid')\n",
    "        prec_model_fitted = prec_model.fit(x_train, y_train)\n",
    "        \n",
    "        prec_models.append(prec_model_fitted)\n",
    "        \n",
    "        prec_pred = prec_model_fitted.predict(x_test)\n",
    "\n",
    "        print('Accuracy of Preceptron model {}: {:.2f}'.format((i+1),getAccuracy(prec_model_fitted, x_test, y_test)))\n",
    "        print(\" \")\n",
    "        print('\\nConfusion Matrix:\\n')\n",
    "        print(confusion_matrix(y_test, prec_pred))\n",
    "        \n",
    "        print('\\nClassification Report:\\n')\n",
    "        print(classification_report(y_test, prec_pred))\n",
    "        \n",
    "        plot_confusion_matrix(prec_model_fitted, x_test, y_test, xticks_rotation='horizontal')\n",
    "    \n",
    "        \n",
    "        tmp.append(prec_model_fitted.predict_proba(x_test))\n",
    "    \n",
    "    return tmp, prec_models  "
   ]
  },
  {
   "cell_type": "code",
   "execution_count": 34,
   "metadata": {},
   "outputs": [
    {
     "name": "stdout",
     "output_type": "stream",
     "text": [
      "Accuracy of Preceptron model 1: 83.33\n",
      " \n",
      "\n",
      "Confusion Matrix:\n",
      "\n",
      "[[25  4]\n",
      " [ 3 10]]\n",
      "\n",
      "Classification Report:\n",
      "\n",
      "              precision    recall  f1-score   support\n",
      "\n",
      "           0       0.89      0.86      0.88        29\n",
      "           1       0.71      0.77      0.74        13\n",
      "\n",
      "    accuracy                           0.83        42\n",
      "   macro avg       0.80      0.82      0.81        42\n",
      "weighted avg       0.84      0.83      0.83        42\n",
      "\n",
      "Accuracy of Preceptron model 2: 97.62\n",
      " \n",
      "\n",
      "Confusion Matrix:\n",
      "\n",
      "[[24  1]\n",
      " [ 0 17]]\n",
      "\n",
      "Classification Report:\n",
      "\n",
      "              precision    recall  f1-score   support\n",
      "\n",
      "           0       1.00      0.96      0.98        25\n",
      "           1       0.94      1.00      0.97        17\n",
      "\n",
      "    accuracy                           0.98        42\n",
      "   macro avg       0.97      0.98      0.98        42\n",
      "weighted avg       0.98      0.98      0.98        42\n",
      "\n",
      "Accuracy of Preceptron model 3: 92.86\n",
      " \n",
      "\n",
      "Confusion Matrix:\n",
      "\n",
      "[[30  0]\n",
      " [ 3  9]]\n",
      "\n",
      "Classification Report:\n",
      "\n",
      "              precision    recall  f1-score   support\n",
      "\n",
      "           0       0.91      1.00      0.95        30\n",
      "           1       1.00      0.75      0.86        12\n",
      "\n",
      "    accuracy                           0.93        42\n",
      "   macro avg       0.95      0.88      0.90        42\n",
      "weighted avg       0.94      0.93      0.93        42\n",
      "\n"
     ]
    },
    {
     "name": "stderr",
     "output_type": "stream",
     "text": [
      "/home/shehata/.local/lib/python3.8/site-packages/sklearn/utils/deprecation.py:87: FutureWarning: Function plot_confusion_matrix is deprecated; Function `plot_confusion_matrix` is deprecated in 1.0 and will be removed in 1.2. Use one of the class methods: ConfusionMatrixDisplay.from_predictions or ConfusionMatrixDisplay.from_estimator.\n",
      "  warnings.warn(msg, category=FutureWarning)\n",
      "/home/shehata/.local/lib/python3.8/site-packages/sklearn/utils/deprecation.py:87: FutureWarning: Function plot_confusion_matrix is deprecated; Function `plot_confusion_matrix` is deprecated in 1.0 and will be removed in 1.2. Use one of the class methods: ConfusionMatrixDisplay.from_predictions or ConfusionMatrixDisplay.from_estimator.\n",
      "  warnings.warn(msg, category=FutureWarning)\n",
      "/home/shehata/.local/lib/python3.8/site-packages/sklearn/utils/deprecation.py:87: FutureWarning: Function plot_confusion_matrix is deprecated; Function `plot_confusion_matrix` is deprecated in 1.0 and will be removed in 1.2. Use one of the class methods: ConfusionMatrixDisplay.from_predictions or ConfusionMatrixDisplay.from_estimator.\n",
      "  warnings.warn(msg, category=FutureWarning)\n"
     ]
    },
    {
     "data": {
      "image/png": "[encoded data removed]",
      "text/plain": [
       "<Figure size 432x288 with 2 Axes>"
      ]
     },
     "metadata": {
      "needs_background": "light"
     },
     "output_type": "display_data"
    },
    {
     "data": {
      "image/png": "[encoded data removed]",
      "text/plain": [
       "<Figure size 432x288 with 2 Axes>"
      ]
     },
     "metadata": {
      "needs_background": "light"
     },
     "output_type": "display_data"
    },
    {
     "data": {
      "image/png": "[encoded data removed]",
      "text/plain": [
       "<Figure size 432x288 with 2 Axes>"
      ]
     },
     "metadata": {
      "needs_background": "light"
     },
     "output_type": "display_data"
    }
   ],
   "source": [
    "fl_pre, precptron_models = Model_Perceptron(df_train_ovr, df_test_ovr)\n",
    "ls_pre_1 = fl_pre[0][:,1]\n",
    "ls_pre_2 = fl_pre[1][:,1]\n",
    "ls_pre_3 = fl_pre[2][:,1]"
   ]
  },
  {
   "cell_type": "markdown",
   "metadata": {},
   "source": [
    "# Recently Added "
   ]
  },
  {
   "cell_type": "code",
   "execution_count": 35,
   "metadata": {},
   "outputs": [
    {
     "name": "stdout",
     "output_type": "stream",
     "text": [
      "[1, 2, 2, 1, 1, 2, 1, 2, 3, 3, 2, 3, 1, 3, 2, 2, 2, 1, 3, 1, 3, 1, 3, 3, 2, 1, 1, 3, 2, 2, 2, 3, 3, 1, 2, 2, 2, 3, 2, 1, 2, 2]\n",
      "\n",
      "Confusion Matrix:\n",
      "\n",
      "[[11  1  1]\n",
      " [ 0 17  0]\n",
      " [ 1  0 11]]\n",
      " \n",
      "Final Accuracy:  0.9285714285714286\n"
     ]
    }
   ],
   "source": [
    "predictions_prec =[]\n",
    "for i in zip(ls_pre_1, ls_pre_2, ls_pre_3):\n",
    "    x = np.argmax((i))\n",
    "    #print(i)\n",
    "    predictions_prec.append(x+1)\n",
    "print(predictions_prec) \n",
    "print('\\nConfusion Matrix:\\n')\n",
    "print(confusion_matrix(actuals, predictions_prec))\n",
    "\n",
    "correct_prec, errors_prec, accuracy_prec = get_final_acc(actuals, predictions_prec)\n",
    "print(\" \")\n",
    "print(\"Final Accuracy: \", accuracy_prec)"
   ]
  },
  {
   "cell_type": "code",
   "execution_count": 36,
   "metadata": {},
   "outputs": [
    {
     "data": {
      "image/png": "[encoded data removed]",
      "text/plain": [
       "<Figure size 432x288 with 1 Axes>"
      ]
     },
     "metadata": {
      "needs_background": "light"
     },
     "output_type": "display_data"
    },
    {
     "data": {
      "image/png": "[encoded data removed]",
      "text/plain": [
       "<Figure size 432x288 with 1 Axes>"
      ]
     },
     "metadata": {
      "needs_background": "light"
     },
     "output_type": "display_data"
    },
    {
     "data": {
      "image/png": "[encoded data removed]",
      "text/plain": [
       "<Figure size 432x288 with 1 Axes>"
      ]
     },
     "metadata": {
      "needs_background": "light"
     },
     "output_type": "display_data"
    }
   ],
   "source": [
    "plot_regions_ovr(df_train_ovr, df_test_ovr, precptron_models)"
   ]
  },
  {
   "cell_type": "markdown",
   "metadata": {},
   "source": [
    "### Plot Preceptron Model on test data"
   ]
  },
  {
   "cell_type": "code",
   "execution_count": 37,
   "metadata": {},
   "outputs": [
    {
     "data": {
      "image/png": "[encoded data removed]",
      "text/plain": [
       "<Figure size 432x288 with 1 Axes>"
      ]
     },
     "metadata": {
      "needs_background": "light"
     },
     "output_type": "display_data"
    }
   ],
   "source": [
    "cls_final = [1, 2, 3]\n",
    "class_names_final = getClassNames(c_names)\n",
    "\n",
    "plotData(X_test_all, y_test_all, cls_final, class_names_final)\n",
    "plotRegions(precptron_models[0], X_test_all)\n",
    "plotRegions(precptron_models[1], X_test_all)\n",
    "plotRegions(precptron_models[2], X_test_all)\n",
    "plt.legend(loc= \"upper left\")\n",
    "plt.show()"
   ]
  },
  {
   "cell_type": "markdown",
   "metadata": {},
   "source": [
    "# Plot True Label Predicition and Wrong Label Predicition"
   ]
  },
  {
   "cell_type": "code",
   "execution_count": 38,
   "metadata": {},
   "outputs": [],
   "source": [
    "pred_df = pd.DataFrame()\n",
    "pred_df['X_1'] = seeds_test.iloc[:, 0]\n",
    "pred_df['X_2'] = seeds_test.iloc[:, 1]\n",
    "pred_df['Actual_y'] = seeds_test.iloc[:, 2]\n",
    "pred_df['svm_Pred_y'] =  predictions_svm\n",
    "pred_df['prec_pred_y'] = predictions_prec\n",
    "# pred_df"
   ]
  },
  {
   "cell_type": "code",
   "execution_count": 39,
   "metadata": {},
   "outputs": [],
   "source": [
    "features_x = pred_df.iloc[:, 0:2].to_numpy()\n",
    "actual_y = pred_df.Actual_y.to_numpy()\n",
    "svm_pred_y = pred_df.svm_Pred_y.to_numpy()\n",
    "preceptron_pred_y = pred_df.prec_pred_y.to_numpy()"
   ]
  },
  {
   "cell_type": "code",
   "execution_count": 40,
   "metadata": {},
   "outputs": [],
   "source": [
    "def true_y(features_x, actual_y, pred_y):\n",
    "    feat_true = []\n",
    "    act_y = []\n",
    "    \n",
    "    for i in range(len(actual_y)):\n",
    "        if (actual_y[i] == pred_y[i]):\n",
    "            feat_true.append(features_x[i])\n",
    "            act_y.append(actual_y[i])\n",
    "        else:\n",
    "            feat_true.append(features_x[i])\n",
    "            act_y.append(4)\n",
    "            \n",
    "    true_y_df = pd.DataFrame(feat_true)\n",
    "    true_y_df['final_y'] = act_y  \n",
    "    \n",
    "    return true_y_df"
   ]
  },
  {
   "cell_type": "code",
   "execution_count": 41,
   "metadata": {},
   "outputs": [],
   "source": [
    "svm_final_y_df = true_y(features_x, actual_y, svm_pred_y)\n",
    "preceptron_final_y_df = true_y(features_x, actual_y, preceptron_pred_y)"
   ]
  },
  {
   "cell_type": "code",
   "execution_count": 42,
   "metadata": {},
   "outputs": [],
   "source": [
    "def plotDataBinary(features, labels, cls, class_names):\n",
    "  colors = ['r', 'b', 'g','y']\n",
    "  markers = ['o', '*', '+', 'X']\n",
    "  for class_index in range(len(cls)):\n",
    "    plt.scatter(features[labels == cls[class_index],0],\n",
    "                features[labels == cls[class_index],1],\n",
    "                c=colors[class_index], marker=markers[class_index],\n",
    "                label=class_names[cls[class_index]])\n",
    "  Title = \"Dataset with {n} classes\".format(n= int(len(cls)))\n",
    "  plt.title(Title)\n",
    "  plt.xlabel('Feature 1')\n",
    "  plt.ylabel('Feature 2')\n",
    "  plt.legend()"
   ]
  },
  {
   "cell_type": "code",
   "execution_count": 43,
   "metadata": {},
   "outputs": [],
   "source": [
    "def final_plot_4_labels(final_y_df):\n",
    "    cls_p = [1, 2, 3, 4]\n",
    "    p_names = ['Kama','Rosa','Canadian','False']\n",
    "\n",
    "    features_test = final_y_df.iloc[:, 0:2].to_numpy()\n",
    "    labels_test = final_y_df.iloc[:, 2].to_numpy()\n",
    "    class_names_4 = getClassNames(p_names)\n",
    "\n",
    "    plotDataBinary(features_test, labels_test, cls_p, class_names_4)\n",
    "    plt.legend(loc=\"upper left\")\n",
    "    plt.show()"
   ]
  },
  {
   "cell_type": "code",
   "execution_count": 44,
   "metadata": {},
   "outputs": [
    {
     "data": {
      "image/png": "[encoded data removed]",
      "text/plain": [
       "<Figure size 432x288 with 1 Axes>"
      ]
     },
     "metadata": {
      "needs_background": "light"
     },
     "output_type": "display_data"
    }
   ],
   "source": [
    "final_plot_4_labels(svm_final_y_df)"
   ]
  },
  {
   "cell_type": "code",
   "execution_count": 45,
   "metadata": {},
   "outputs": [
    {
     "data": {
      "image/png": "[encoded data removed]",
      "text/plain": [
       "<Figure size 432x288 with 1 Axes>"
      ]
     },
     "metadata": {
      "needs_background": "light"
     },
     "output_type": "display_data"
    }
   ],
   "source": [
    "final_plot_4_labels(preceptron_final_y_df)"
   ]
  },
  {
   "cell_type": "markdown",
   "metadata": {},
   "source": [
    "# Our Stratigy"
   ]
  },
  {
   "cell_type": "code",
   "execution_count": 46,
   "metadata": {},
   "outputs": [],
   "source": [
    "##################### Instead of argmax ######################## Same accuracy!\n",
    "def our_stratigy(ls1, ls2, ls3):\n",
    "    ls_predictions = []\n",
    "    for x, y, z in zip(ls1, ls2, ls3):\n",
    "        temp, num = x, 1\n",
    "        if (y > x):\n",
    "            temp = y\n",
    "            num = 2\n",
    "        if (z > temp):\n",
    "            temp = z\n",
    "            num = 3\n",
    "        ls_predictions.append(num)        \n",
    "    return ls_predictions"
   ]
  },
  {
   "cell_type": "code",
   "execution_count": 47,
   "metadata": {},
   "outputs": [
    {
     "name": "stdout",
     "output_type": "stream",
     "text": [
      "SVM PRedictions: \n",
      " [1, 2, 2, 1, 1, 2, 1, 2, 3, 3, 2, 3, 1, 3, 2, 2, 2, 1, 3, 1, 3, 1, 2, 3, 2, 1, 1, 3, 2, 2, 2, 3, 3, 1, 2, 2, 2, 3, 2, 1, 2, 2]\n",
      " \n",
      "Preceptron Preictions: \n",
      " [1, 2, 2, 1, 1, 2, 1, 2, 3, 3, 2, 3, 1, 3, 2, 2, 2, 1, 3, 1, 3, 1, 3, 3, 2, 1, 1, 3, 2, 2, 2, 3, 3, 1, 2, 2, 2, 3, 2, 1, 2, 2]\n"
     ]
    }
   ],
   "source": [
    "svm_predictions = our_stratigy(ls_svm_1, ls_svm_2, ls_svm_3)\n",
    "preceptron_predictions = our_stratigy(ls_pre_1, ls_pre_2, ls_pre_3)\n",
    "\n",
    "print(\"SVM PRedictions: \\n\", svm_predictions)\n",
    "print(\" \")\n",
    "print(\"Preceptron Preictions: \\n\", preceptron_predictions)"
   ]
  },
  {
   "cell_type": "code",
   "execution_count": 48,
   "metadata": {},
   "outputs": [
    {
     "name": "stdout",
     "output_type": "stream",
     "text": [
      "[1, 2, 2, 1, 3, 2, 1, 2, 3, 3, 2, 3, 1, 3, 2, 2, 2, 1, 3, 3, 3, 1, 3, 3, 2, 1, 1, 3, 2, 2, 2, 3, 3, 1, 2, 2, 2, 3, 2, 1, 2, 2]\n"
     ]
    }
   ],
   "source": [
    "####################################### Our Stratigy #########################################\n",
    "ls_pre1 = fl_pre[0][:]\n",
    "ls_pre2 = fl_pre[1][:]\n",
    "ls_pre3 = fl_pre[2][:]\n",
    "\n",
    "def ls_back(ls):\n",
    "    l = []\n",
    "    temp = 0\n",
    "    for y, j in ls:\n",
    "        if (j > y and j > .6):\n",
    "            temp = 1\n",
    "        elif (y > j and y > .6):\n",
    "            temp = -1\n",
    "        elif (j > .5):\n",
    "            temp = .5\n",
    "        elif (y > .5):\n",
    "            temp = -.5\n",
    "        else:\n",
    "            temp = 0      \n",
    "        l.append(temp)\n",
    "    return l\n",
    "\n",
    "l1 = ls_back(ls_pre1)\n",
    "l2 = ls_back(ls_pre2)\n",
    "l3 = ls_back(ls_pre3)\n",
    "\n",
    "final = []\n",
    "for x, y, z in zip(l1, l2, l3):\n",
    "    if (y == 1):\n",
    "        temp = 2\n",
    "    elif (x == 1):\n",
    "        temp = 1\n",
    "    elif (z == 1):\n",
    "        temp = 3\n",
    "    elif (x == .5):\n",
    "        temp = 1\n",
    "    elif (y == .5):\n",
    "        temp = 2\n",
    "    elif (z == .5):\n",
    "        temp = 3\n",
    "    else:\n",
    "        temp = 3\n",
    "    final.append(temp)\n",
    "print(final)"
   ]
  },
  {
   "cell_type": "code",
   "execution_count": 49,
   "metadata": {},
   "outputs": [
    {
     "name": "stdout",
     "output_type": "stream",
     "text": [
      "[1, 2, 2, 1, 3, 2, 1, 2, 3, 3, 2, 3, 1, 3, 2, 2, 2, 1, 3, 3, 3, 1, 3, 3, 2, 1, 1, 3, 2, 2, 2, 3, 3, 1, 2, 2, 2, 3, 2, 1, 2, 2]\n",
      "\n",
      "Confusion Matrix:\n",
      "\n",
      "[[ 9  1  3]\n",
      " [ 0 17  0]\n",
      " [ 1  0 11]]\n",
      " \n",
      "Final Accuracy:  0.8809523809523809\n"
     ]
    }
   ],
   "source": [
    "print(final)\n",
    "print('\\nConfusion Matrix:\\n')\n",
    "print(confusion_matrix(actuals, final))\n",
    "correct_prec, errors_prec, accuracy_prec = get_final_acc(actuals, final)\n",
    "print(\" \")\n",
    "print(\"Final Accuracy: \", accuracy_prec)"
   ]
  },
  {
   "cell_type": "code",
   "execution_count": null,
   "metadata": {},
   "outputs": [],
   "source": []
  }
 ],
 "metadata": {
  "colab": {
   "collapsed_sections": [],
   "name": "ML_Assignment_01.ipynb",
   "provenance": []
  },
  "kernelspec": {
   "display_name": "Python 3",
   "language": "python",
   "name": "python3"
  },
  "language_info": {
   "codemirror_mode": {
    "name": "ipython",
    "version": 3
   },
   "file_extension": ".py",
   "mimetype": "text/x-python",
   "name": "python",
   "nbconvert_exporter": "python",
   "pygments_lexer": "ipython3",
   "version": "3.8.5"
  }
 },
 "nbformat": 4,
 "nbformat_minor": 5
}
