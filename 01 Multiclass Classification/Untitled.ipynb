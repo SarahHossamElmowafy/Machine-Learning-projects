{
 "cells": [
  {
   "cell_type": "code",
   "execution_count": 3,
   "metadata": {},
   "outputs": [
    {
     "name": "stdout",
     "output_type": "stream",
     "text": [
      "[[ 0  1  2  3  4]\n",
      " [ 5  6  7  8  9]\n",
      " [10 11 12 13 14]]\n",
      "The maximum value of the array is: 14, located at: row 2, column 4\n"
     ]
    }
   ],
   "source": [
    "import numpy as np\n",
    "import math\n",
    "\n",
    "matrix = np.arange(15).reshape(3, 5)\n",
    "print(matrix)\n",
    "# Important\n",
    "matrix = np.atleast_2d(matrix)\n",
    "# set maximum to -inf\n",
    "maximum = -math.inf\n",
    "# Search maximum\n",
    "for j in range(matrix.shape[1]):\n",
    "    for i in range(matrix.shape[0]):\n",
    "        maximum = matrix[i][j] if matrix[i][j] > maximum else maximum\n",
    "\n",
    "# More than 1 maximum, take the first one?\n",
    "pos = np.argwhere(matrix == maximum)[0]\n",
    "print(\n",
    "    f\"The maximum value of the array is: {maximum}, located at: row {pos[0]}, column {pos[1]}\"\n",
    ")"
   ]
  },
  {
   "cell_type": "code",
   "execution_count": null,
   "metadata": {},
   "outputs": [],
   "source": []
  }
 ],
 "metadata": {
  "kernelspec": {
   "display_name": "Python 3",
   "language": "python",
   "name": "python3"
  },
  "language_info": {
   "codemirror_mode": {
    "name": "ipython",
    "version": 3
   },
   "file_extension": ".py",
   "mimetype": "text/x-python",
   "name": "python",
   "nbconvert_exporter": "python",
   "pygments_lexer": "ipython3",
   "version": "3.8.5"
  }
 },
 "nbformat": 4,
 "nbformat_minor": 4
}
